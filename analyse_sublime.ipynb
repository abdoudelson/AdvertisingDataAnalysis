{
  "nbformat": 4,
  "nbformat_minor": 0,
  "metadata": {
    "colab": {
      "name": "analyse sublime.ipynb",
      "version": "0.3.2",
      "provenance": [],
      "collapsed_sections": [
        "ealuRsK-Jvut",
        "ycjhiL4oJ0Mm",
        "mjbC2eecACib",
        "lhLJu6GJFktH",
        "j8CalSbABaEK",
        "oAbR5BU5Cvil"
      ]
    },
    "kernelspec": {
      "name": "python3",
      "display_name": "Python 3"
    }
  },
  "cells": [
    {
      "cell_type": "code",
      "metadata": {
        "id": "l6tYuGCcJpdD",
        "colab_type": "code",
        "outputId": "b975f53a-9525-45a4-a216-d934f70467a7",
        "colab": {
          "base_uri": "https://localhost:8080/",
          "height": 34
        }
      },
      "source": [
        "from google.colab import drive\n",
        "drive.mount('/content/drive')"
      ],
      "execution_count": 1,
      "outputs": [
        {
          "output_type": "stream",
          "text": [
            "Drive already mounted at /content/drive; to attempt to forcibly remount, call drive.mount(\"/content/drive\", force_remount=True).\n"
          ],
          "name": "stdout"
        }
      ]
    },
    {
      "cell_type": "markdown",
      "metadata": {
        "id": "OxYoi_KFFXzm",
        "colab_type": "text"
      },
      "source": [
        "#analyse de données publicitaires"
      ]
    },
    {
      "cell_type": "code",
      "metadata": {
        "id": "0uf-OoNPKUih",
        "colab_type": "code",
        "colab": {}
      },
      "source": [
        "import pandas as pd  \n",
        "import numpy as np\n",
        "import matplotlib.pyplot as plt\n",
        "from matplotlib.cm import ScalarMappable\n"
      ],
      "execution_count": 0,
      "outputs": []
    },
    {
      "cell_type": "code",
      "metadata": {
        "id": "g_4Ugc_rJ4AR",
        "colab_type": "code",
        "colab": {}
      },
      "source": [
        "path = \"/content/drive/My Drive/Tech-Test-sublime/dataset-fake-technical-test.csv\""
      ],
      "execution_count": 0,
      "outputs": []
    },
    {
      "cell_type": "code",
      "metadata": {
        "id": "oJf6Dlw5KTVb",
        "colab_type": "code",
        "outputId": "feadbe7f-e429-4efa-d623-2c4d91e32d15",
        "colab": {
          "base_uri": "https://localhost:8080/",
          "height": 279
        }
      },
      "source": [
        "DF = pd.read_csv(path,sep='\\t')\n",
        "DF.head()"
      ],
      "execution_count": 4,
      "outputs": [
        {
          "output_type": "execute_result",
          "data": {
            "text/html": [
              "<div>\n",
              "<style scoped>\n",
              "    .dataframe tbody tr th:only-of-type {\n",
              "        vertical-align: middle;\n",
              "    }\n",
              "\n",
              "    .dataframe tbody tr th {\n",
              "        vertical-align: top;\n",
              "    }\n",
              "\n",
              "    .dataframe thead th {\n",
              "        text-align: right;\n",
              "    }\n",
              "</style>\n",
              "<table border=\"1\" class=\"dataframe\">\n",
              "  <thead>\n",
              "    <tr style=\"text-align: right;\">\n",
              "      <th></th>\n",
              "      <th>ts</th>\n",
              "      <th>event</th>\n",
              "      <th>useragent</th>\n",
              "      <th>url</th>\n",
              "      <th>region</th>\n",
              "      <th>departement</th>\n",
              "      <th>city</th>\n",
              "      <th>zone_id</th>\n",
              "      <th>ad_id</th>\n",
              "      <th>tag_id</th>\n",
              "    </tr>\n",
              "  </thead>\n",
              "  <tbody>\n",
              "    <tr>\n",
              "      <th>0</th>\n",
              "      <td>2019-07-19 14:02:46</td>\n",
              "      <td>i0</td>\n",
              "      <td>Mozilla/5.0 (Windows NT 6.1; Win64; x64; rv:52...</td>\n",
              "      <td>https://www.leboncoin.fr/recherche/?text=lit%2...</td>\n",
              "      <td>Centre</td>\n",
              "      <td>Loiret</td>\n",
              "      <td>Orléans</td>\n",
              "      <td>9287</td>\n",
              "      <td>24059030</td>\n",
              "      <td>p5498120607220765000</td>\n",
              "    </tr>\n",
              "    <tr>\n",
              "      <th>1</th>\n",
              "      <td>2019-07-19 14:00:24</td>\n",
              "      <td>i0</td>\n",
              "      <td>Mozilla/5.0 (Windows NT 10.0; Win64; x64) Appl...</td>\n",
              "      <td>http://www.meteofrance.com/previsions-meteo-fr...</td>\n",
              "      <td>NaN</td>\n",
              "      <td>NaN</td>\n",
              "      <td>NaN</td>\n",
              "      <td>17437</td>\n",
              "      <td>24148608</td>\n",
              "      <td>p2884347951303540000</td>\n",
              "    </tr>\n",
              "    <tr>\n",
              "      <th>2</th>\n",
              "      <td>2019-07-19 14:08:48</td>\n",
              "      <td>i0</td>\n",
              "      <td>Mozilla/5.0 (Windows NT 6.1; Win64; x64) Apple...</td>\n",
              "      <td>https://www.leboncoin.fr/recherche/?category=2...</td>\n",
              "      <td>Occitanie</td>\n",
              "      <td>Hérault</td>\n",
              "      <td>Montpellier</td>\n",
              "      <td>9287</td>\n",
              "      <td>24167308</td>\n",
              "      <td>p1686686056029719600</td>\n",
              "    </tr>\n",
              "    <tr>\n",
              "      <th>3</th>\n",
              "      <td>2019-07-19 14:08:57</td>\n",
              "      <td>i0</td>\n",
              "      <td>Mozilla/5.0 (Windows NT 6.1; Win64; x64) Apple...</td>\n",
              "      <td>https://www.leboncoin.fr/recherche/?text=salle...</td>\n",
              "      <td>Île-de-France</td>\n",
              "      <td>Yvelines</td>\n",
              "      <td>Villepreux</td>\n",
              "      <td>9287</td>\n",
              "      <td>24167308</td>\n",
              "      <td>p4519346950664111600</td>\n",
              "    </tr>\n",
              "    <tr>\n",
              "      <th>4</th>\n",
              "      <td>2019-07-19 14:09:39</td>\n",
              "      <td>i0</td>\n",
              "      <td>Mozilla/5.0 (Windows NT 10.0; Win64; x64) Appl...</td>\n",
              "      <td>https://www.leboncoin.fr/recherche/?text=machi...</td>\n",
              "      <td>Grand-Est</td>\n",
              "      <td>Bas-Rhin</td>\n",
              "      <td>Strasbourg</td>\n",
              "      <td>9287</td>\n",
              "      <td>24167308</td>\n",
              "      <td>p670021366504534300</td>\n",
              "    </tr>\n",
              "  </tbody>\n",
              "</table>\n",
              "</div>"
            ],
            "text/plain": [
              "                    ts event  ...     ad_id                tag_id\n",
              "0  2019-07-19 14:02:46    i0  ...  24059030  p5498120607220765000\n",
              "1  2019-07-19 14:00:24    i0  ...  24148608  p2884347951303540000\n",
              "2  2019-07-19 14:08:48    i0  ...  24167308  p1686686056029719600\n",
              "3  2019-07-19 14:08:57    i0  ...  24167308  p4519346950664111600\n",
              "4  2019-07-19 14:09:39    i0  ...  24167308   p670021366504534300\n",
              "\n",
              "[5 rows x 10 columns]"
            ]
          },
          "metadata": {
            "tags": []
          },
          "execution_count": 4
        }
      ]
    },
    {
      "cell_type": "markdown",
      "metadata": {
        "id": "HEfZqi1sz48c",
        "colab_type": "text"
      },
      "source": [
        "#Partie 1 :ANALYSE DESCRIPTIVE DU DATASET"
      ]
    },
    {
      "cell_type": "code",
      "metadata": {
        "id": "ELQfAXLb1Tpn",
        "colab_type": "code",
        "outputId": "9eed0acc-10e1-424f-ba67-24500f8bbc0e",
        "colab": {
          "base_uri": "https://localhost:8080/",
          "height": 210
        }
      },
      "source": [
        "DF.count()"
      ],
      "execution_count": 5,
      "outputs": [
        {
          "output_type": "execute_result",
          "data": {
            "text/plain": [
              "ts             303386\n",
              "event          303386\n",
              "useragent      303386\n",
              "url            302964\n",
              "region         259202\n",
              "departement    258286\n",
              "city           258286\n",
              "zone_id        303386\n",
              "ad_id          303386\n",
              "tag_id         303386\n",
              "dtype: int64"
            ]
          },
          "metadata": {
            "tags": []
          },
          "execution_count": 5
        }
      ]
    },
    {
      "cell_type": "markdown",
      "metadata": {
        "id": "rrxutVuR21_w",
        "colab_type": "text"
      },
      "source": [
        "\n",
        "### Description du dataset\n",
        "\n",
        "> Le dataset comporte **303386** ligne\n",
        "\n",
        "> Il comprend 10 variables \n",
        "\n",
        ">> TS \"timestamps\" \n",
        "\n",
        ">> event correspand a l'evenement (impression ou click )\n",
        "\n",
        ">> useragent \n",
        "\n",
        ">> url \n",
        "\n",
        ">> 3 varible de localisation geographique ( region, departement, city )\n",
        "\n",
        ">> zone_id zone sur le site ( support de pub )\n",
        "\n",
        ">> ad_id identifiant de la pub\n",
        "\n",
        ">> tag_id \n",
        "\n",
        "\n",
        "**Toutes les variables sont qualitatives**"
      ]
    },
    {
      "cell_type": "markdown",
      "metadata": {
        "id": "nql-nW6S4naK",
        "colab_type": "text"
      },
      "source": [
        "### Valeurs manquantes\n",
        "\n",
        "Les variables  url , region, departement, city ont des valeurs manquantes"
      ]
    },
    {
      "cell_type": "markdown",
      "metadata": {
        "id": "d5n9fcCS7QMe",
        "colab_type": "text"
      },
      "source": [
        "### Calcule des frequences de chaque variable\n"
      ]
    },
    {
      "cell_type": "markdown",
      "metadata": {
        "id": "ss5hErq45sRk",
        "colab_type": "text"
      },
      "source": [
        "Pour la variable event :"
      ]
    },
    {
      "cell_type": "code",
      "metadata": {
        "id": "hjCDvZTn0CSb",
        "colab_type": "code",
        "outputId": "72edae30-f829-4361-8caa-feef253f44e0",
        "colab": {
          "base_uri": "https://localhost:8080/",
          "height": 70
        }
      },
      "source": [
        "DF['event'].value_counts()"
      ],
      "execution_count": 6,
      "outputs": [
        {
          "output_type": "execute_result",
          "data": {
            "text/plain": [
              "i0    296737\n",
              "c       6649\n",
              "Name: event, dtype: int64"
            ]
          },
          "metadata": {
            "tags": []
          },
          "execution_count": 6
        }
      ]
    },
    {
      "cell_type": "markdown",
      "metadata": {
        "id": "jr8cmG545wcN",
        "colab_type": "text"
      },
      "source": [
        "On dispose de 296737 impression\n",
        "et 6649 click"
      ]
    },
    {
      "cell_type": "code",
      "metadata": {
        "id": "0XPGtThiKm9Y",
        "colab_type": "code",
        "outputId": "55b19e8f-1f3e-480c-85e9-c9056254c7b1",
        "colab": {
          "base_uri": "https://localhost:8080/",
          "height": 34
        }
      },
      "source": [
        "(DF['event'].value_counts()[0]/DF['event'].count())*100"
      ],
      "execution_count": 7,
      "outputs": [
        {
          "output_type": "execute_result",
          "data": {
            "text/plain": [
              "97.80840249714885"
            ]
          },
          "metadata": {
            "tags": []
          },
          "execution_count": 7
        }
      ]
    },
    {
      "cell_type": "code",
      "metadata": {
        "id": "SoToPrPJ797E",
        "colab_type": "code",
        "outputId": "c966af20-b2b3-4a78-a109-721e17bbd1f3",
        "colab": {
          "base_uri": "https://localhost:8080/",
          "height": 34
        }
      },
      "source": [
        "(DF['event'].value_counts()[1]/DF['event'].count())*100"
      ],
      "execution_count": 8,
      "outputs": [
        {
          "output_type": "execute_result",
          "data": {
            "text/plain": [
              "2.1915975028511534"
            ]
          },
          "metadata": {
            "tags": []
          },
          "execution_count": 8
        }
      ]
    },
    {
      "cell_type": "markdown",
      "metadata": {
        "id": "u47x0Wn35-Tp",
        "colab_type": "text"
      },
      "source": [
        "Ce qui fait que ***97.8 %*** des ***event*** sond des impressions et ***2.2 %*** sont des clicks"
      ]
    },
    {
      "cell_type": "code",
      "metadata": {
        "id": "C8iV8bN5PsGV",
        "colab_type": "code",
        "colab": {}
      },
      "source": [
        "zone_id = np.unique(DF[\"zone_id\"].tolist())\n",
        "departement = np.unique(DF[\"departement\"].tolist())"
      ],
      "execution_count": 0,
      "outputs": []
    },
    {
      "cell_type": "markdown",
      "metadata": {
        "id": "HgBfDY0M6W6J",
        "colab_type": "text"
      },
      "source": [
        "Par rapport au regions :"
      ]
    },
    {
      "cell_type": "code",
      "metadata": {
        "id": "UDYDpGzdBlqy",
        "colab_type": "code",
        "colab": {
          "base_uri": "https://localhost:8080/",
          "height": 457
        },
        "outputId": "83d7d21b-6386-4a8c-e036-01d4f712f682"
      },
      "source": [
        "DF[\"region\"].value_counts()"
      ],
      "execution_count": 10,
      "outputs": [
        {
          "output_type": "execute_result",
          "data": {
            "text/plain": [
              "Île-de-France                 43690\n",
              "Auvergne-Rhone-Alpes          34505\n",
              "Nouvelle-Aquitaine            26856\n",
              "Occitanie                     24165\n",
              "Hauts-de-France               20085\n",
              "Provence-Alpes-Côte d'Azur    19694\n",
              "Grand-Est                     19313\n",
              "Pays de la Loire              16966\n",
              "Brittany                      15428\n",
              "Normandy                      13645\n",
              "Centre                        12555\n",
              "Bourgogne-Franche-Comte       10947\n",
              "Aquitaine                       671\n",
              "Corsica                         491\n",
              "Languedoc-Roussillon             70\n",
              "Champagne-Ardenne                51\n",
              "Poitou-Charentes                 44\n",
              "Lower Normandy                   10\n",
              "Lorraine                          4\n",
              "Rhône-Alpes                       4\n",
              "Haute-Normandie                   3\n",
              "Nord-Pas-de-Calais                2\n",
              "Auvergne                          2\n",
              "Picardie                          1\n",
              "Name: region, dtype: int64"
            ]
          },
          "metadata": {
            "tags": []
          },
          "execution_count": 10
        }
      ]
    },
    {
      "cell_type": "markdown",
      "metadata": {
        "id": "t7hqd5496wVC",
        "colab_type": "text"
      },
      "source": [
        "La region la plus frequente est la region **d'Île-de-France**  suivie de **Auvergne-Rhone-Alpes** **Nouvelle-Aquitaine** ,**Occitanie**"
      ]
    },
    {
      "cell_type": "markdown",
      "metadata": {
        "id": "bZG5AZjk9hLf",
        "colab_type": "text"
      },
      "source": [
        "Les regions les moins frequentes sont                                       \n",
        "\n",
        "Aquitaine                     \n",
        "Corsica                      \n",
        "Languedoc-Roussillon             \n",
        "Champagne-Ardenne                \n",
        "Poitou-Charentes                \n",
        "Lower Normandy                   \n",
        "Rhône-Alpes                       \n",
        "Lorraine                          \n",
        "Haute-Normandie                   \n",
        "Nord-Pas-de-Calais                \n",
        "Auvergne                          \n",
        "Picardie                          "
      ]
    },
    {
      "cell_type": "markdown",
      "metadata": {
        "id": "68RslgAl973O",
        "colab_type": "text"
      },
      "source": [
        "Par rapport aux annonces (**ad_id**) "
      ]
    },
    {
      "cell_type": "code",
      "metadata": {
        "id": "kvgFtR70-OBT",
        "colab_type": "code",
        "colab": {
          "base_uri": "https://localhost:8080/",
          "height": 422
        },
        "outputId": "76a02a95-232d-4b12-d412-4c56e3d006d1"
      },
      "source": [
        "DF[\"ad_id\"].value_counts()"
      ],
      "execution_count": 11,
      "outputs": [
        {
          "output_type": "execute_result",
          "data": {
            "text/plain": [
              "24105229    78423\n",
              "24105228    77804\n",
              "24171550    36040\n",
              "24167308    23900\n",
              "24148608    16195\n",
              "24154017    15334\n",
              "24165898     7846\n",
              "24133055     6878\n",
              "24133056     6862\n",
              "24116387     6857\n",
              "24133054     6814\n",
              "24160320     4880\n",
              "24135582     4064\n",
              "24158474     3144\n",
              "24059030     3136\n",
              "24165990     2596\n",
              "24148612     2110\n",
              "24153270      205\n",
              "24165889      103\n",
              "24138365       98\n",
              "24138353       52\n",
              "24153273       45\n",
              "Name: ad_id, dtype: int64"
            ]
          },
          "metadata": {
            "tags": []
          },
          "execution_count": 11
        }
      ]
    },
    {
      "cell_type": "markdown",
      "metadata": {
        "id": "KqAY8eX_-XpH",
        "colab_type": "text"
      },
      "source": [
        "On dispose de 22 annonces                                              \n",
        "les annonces avec les id   **24105229** et **24105228** sont les plus frequentes"
      ]
    },
    {
      "cell_type": "markdown",
      "metadata": {
        "id": "ZYGk1CNTBWbA",
        "colab_type": "text"
      },
      "source": [
        "# Partie 2 : Analyse du CTR\n"
      ]
    },
    {
      "cell_type": "markdown",
      "metadata": {
        "id": "jZKt373J3OKn",
        "colab_type": "text"
      },
      "source": [
        "Dans cette partie on va analyser le CTR par zone et par departement \n",
        "\n",
        "\n",
        "> pour commencer on calcule le CTR globale.\n",
        "\n",
        "\n"
      ]
    },
    {
      "cell_type": "code",
      "metadata": {
        "id": "Dhr3J5CYJdF2",
        "colab_type": "code",
        "outputId": "f656862c-9ac0-400a-8ddb-ffaa177b7cb9",
        "colab": {
          "base_uri": "https://localhost:8080/",
          "height": 34
        }
      },
      "source": [
        "DF['event'].value_counts()[1]/DF['event'].value_counts()[0] *100"
      ],
      "execution_count": 12,
      "outputs": [
        {
          "output_type": "execute_result",
          "data": {
            "text/plain": [
              "2.2407047317995397"
            ]
          },
          "metadata": {
            "tags": []
          },
          "execution_count": 12
        }
      ]
    },
    {
      "cell_type": "markdown",
      "metadata": {
        "id": "Lz0FqUfaJlgN",
        "colab_type": "text"
      },
      "source": [
        "\n",
        "\n",
        "> Le CTR total est de 2.24 %\n",
        "\n"
      ]
    },
    {
      "cell_type": "markdown",
      "metadata": {
        "id": "ealuRsK-Jvut",
        "colab_type": "text"
      },
      "source": [
        "## Analyse par ZONE"
      ]
    },
    {
      "cell_type": "markdown",
      "metadata": {
        "id": "rCGNCGVJzRfd",
        "colab_type": "text"
      },
      "source": [
        "Afin d'analyser le CTR par Zone_id je vais crée un nouvel dataframe pour enregistrer les **impressions** et les **Ctr** pour chaque zone_id."
      ]
    },
    {
      "cell_type": "code",
      "metadata": {
        "id": "QlOW8H1ocmtL",
        "colab_type": "code",
        "colab": {
          "base_uri": "https://localhost:8080/",
          "height": 195
        },
        "outputId": "5691a7fa-6a6d-4301-e5a3-40ecb28e45cd"
      },
      "source": [
        "CTR_zone = []\n",
        "impression_zone = []\n",
        "for z in zone_id:\n",
        "  CTR = DF[DF[\"zone_id\"] == z][\"event\"].value_counts()[1]/DF[DF[\"zone_id\"] == z][\"event\"].value_counts()[0] * 100\n",
        "  CTR_zone.append(CTR)\n",
        "  impression_zone.append(DF[DF[\"zone_id\"] == z][\"event\"].value_counts()[0])\n",
        "DF_CTRZ = pd.DataFrame({'zone_id':zone_id,'CTR %' : CTR_zone,'impression' : impression_zone}).sort_values(by='CTR %', ascending=False)\n",
        "DF_CTRZ.head()"
      ],
      "execution_count": 13,
      "outputs": [
        {
          "output_type": "execute_result",
          "data": {
            "text/html": [
              "<div>\n",
              "<style scoped>\n",
              "    .dataframe tbody tr th:only-of-type {\n",
              "        vertical-align: middle;\n",
              "    }\n",
              "\n",
              "    .dataframe tbody tr th {\n",
              "        vertical-align: top;\n",
              "    }\n",
              "\n",
              "    .dataframe thead th {\n",
              "        text-align: right;\n",
              "    }\n",
              "</style>\n",
              "<table border=\"1\" class=\"dataframe\">\n",
              "  <thead>\n",
              "    <tr style=\"text-align: right;\">\n",
              "      <th></th>\n",
              "      <th>zone_id</th>\n",
              "      <th>CTR %</th>\n",
              "      <th>impression</th>\n",
              "    </tr>\n",
              "  </thead>\n",
              "  <tbody>\n",
              "    <tr>\n",
              "      <th>3</th>\n",
              "      <td>9287</td>\n",
              "      <td>3.163213</td>\n",
              "      <td>60761</td>\n",
              "    </tr>\n",
              "    <tr>\n",
              "      <th>1</th>\n",
              "      <td>9283</td>\n",
              "      <td>2.648763</td>\n",
              "      <td>113940</td>\n",
              "    </tr>\n",
              "    <tr>\n",
              "      <th>5</th>\n",
              "      <td>17437</td>\n",
              "      <td>1.481435</td>\n",
              "      <td>95313</td>\n",
              "    </tr>\n",
              "    <tr>\n",
              "      <th>2</th>\n",
              "      <td>9284</td>\n",
              "      <td>1.259217</td>\n",
              "      <td>8815</td>\n",
              "    </tr>\n",
              "    <tr>\n",
              "      <th>4</th>\n",
              "      <td>9614</td>\n",
              "      <td>1.125089</td>\n",
              "      <td>11288</td>\n",
              "    </tr>\n",
              "  </tbody>\n",
              "</table>\n",
              "</div>"
            ],
            "text/plain": [
              "   zone_id     CTR %  impression\n",
              "3     9287  3.163213       60761\n",
              "1     9283  2.648763      113940\n",
              "5    17437  1.481435       95313\n",
              "2     9284  1.259217        8815\n",
              "4     9614  1.125089       11288"
            ]
          },
          "metadata": {
            "tags": []
          },
          "execution_count": 13
        }
      ]
    },
    {
      "cell_type": "markdown",
      "metadata": {
        "id": "ILnmnDtK22yI",
        "colab_type": "text"
      },
      "source": [
        "Et Afin de bien visualiser les resultat on va visualiser tout ceci avec un bar chart."
      ]
    },
    {
      "cell_type": "code",
      "metadata": {
        "id": "ee4FU113czK3",
        "colab_type": "code",
        "outputId": "015460b4-02cf-48fc-f6b7-6a9a0e6d9503",
        "colab": {
          "base_uri": "https://localhost:8080/",
          "height": 327
        }
      },
      "source": [
        "\n",
        "data_x = np.arange(len(DF_CTRZ['zone_id']))\n",
        "data_hight = CTR_zone\n",
        "data_color = CTR_zone\n",
        "\n",
        "\n",
        "data_color = [x / max(DF_CTRZ['CTR %']) for x in DF_CTRZ['CTR %']]\n",
        "fig, ax = plt.subplots(figsize=(15, 4))\n",
        "\n",
        "my_cmap = plt.cm.get_cmap('GnBu')\n",
        "colors = my_cmap(data_color)\n",
        "rects = ax.bar(data_x, DF_CTRZ['CTR %'], color=colors)\n",
        "\n",
        "sm = ScalarMappable(cmap=my_cmap, norm=plt.Normalize(0,max(data_color)))\n",
        "sm.set_array([])\n",
        "\n",
        "cbar = plt.colorbar(sm)\n",
        "cbar.set_label('Color', rotation=270,labelpad=25)\n",
        "\n",
        "plt.xlabel('ZONE ID', fontsize=15)\n",
        "plt.ylabel('CTR', fontsize=15)\n",
        "plt.xticks(data_x, DF_CTRZ['zone_id'], fontsize=15, rotation=30)\n",
        "plt.title('BAR CHART DESCRIBING THE CTR PER ZONE')\n",
        "plt.show()"
      ],
      "execution_count": 14,
      "outputs": [
        {
          "output_type": "display_data",
          "data": {
            "image/png": "[encoded data removed]",
            "text/plain": [
              "<Figure size 1080x288 with 2 Axes>"
            ]
          },
          "metadata": {
            "tags": []
          }
        }
      ]
    },
    {
      "cell_type": "markdown",
      "metadata": {
        "id": "HXMo-GsRKSmf",
        "colab_type": "text"
      },
      "source": [
        " On remarque les zones 9283 et 9287 ont un CTR superieur a 2 %"
      ]
    },
    {
      "cell_type": "markdown",
      "metadata": {
        "id": "ycjhiL4oJ0Mm",
        "colab_type": "text"
      },
      "source": [
        "##Analyse par Departement"
      ]
    },
    {
      "cell_type": "markdown",
      "metadata": {
        "id": "1KkGG3xW4MeB",
        "colab_type": "text"
      },
      "source": [
        "On procède au mêmes étapes pour l'analyse par rapport au départements.\n"
      ]
    },
    {
      "cell_type": "code",
      "metadata": {
        "id": "qASps3bUTedL",
        "colab_type": "code",
        "colab": {}
      },
      "source": [
        "CTR_dep = []\n",
        "for d in departement:\n",
        "  if len(DF[DF[\"departement\"] == d ][\"event\"].value_counts()) > 1 :\n",
        "    CTR = DF[DF[\"departement\"] == d][\"event\"].value_counts()[1]/DF[DF[\"departement\"] == d][\"event\"].value_counts()[0] *100\n",
        "  else :\n",
        "    CTR = 0\n",
        "  CTR_dep.append(CTR)\n",
        "  "
      ],
      "execution_count": 0,
      "outputs": []
    },
    {
      "cell_type": "code",
      "metadata": {
        "id": "H7IDcLgcs1HE",
        "colab_type": "code",
        "colab": {}
      },
      "source": [
        "imp_dep = []\n",
        "for d in departement :\n",
        "  if len(DF[DF[\"departement\"] == d][\"event\"].value_counts()) > 0 :\n",
        "    imp = DF[DF[\"departement\"] == d][\"event\"].value_counts()[0]\n",
        "  else : imp = 0\n",
        "  imp_dep.append(imp)\n",
        "  "
      ],
      "execution_count": 0,
      "outputs": []
    },
    {
      "cell_type": "code",
      "metadata": {
        "id": "sUD969fBy0KL",
        "colab_type": "code",
        "colab": {
          "base_uri": "https://localhost:8080/",
          "height": 136
        },
        "outputId": "21778e81-5f46-41d6-e3a1-ce2fd34f917f"
      },
      "source": [
        "DF_ctrd = pd.DataFrame({'departement':departement,'CTR' : CTR_dep,'impression' : imp_dep}).sort_values(by='CTR', ascending=False)\n",
        "DF_ctrd.head(3)"
      ],
      "execution_count": 17,
      "outputs": [
        {
          "output_type": "execute_result",
          "data": {
            "text/html": [
              "<div>\n",
              "<style scoped>\n",
              "    .dataframe tbody tr th:only-of-type {\n",
              "        vertical-align: middle;\n",
              "    }\n",
              "\n",
              "    .dataframe tbody tr th {\n",
              "        vertical-align: top;\n",
              "    }\n",
              "\n",
              "    .dataframe thead th {\n",
              "        text-align: right;\n",
              "    }\n",
              "</style>\n",
              "<table border=\"1\" class=\"dataframe\">\n",
              "  <thead>\n",
              "    <tr style=\"text-align: right;\">\n",
              "      <th></th>\n",
              "      <th>departement</th>\n",
              "      <th>CTR</th>\n",
              "      <th>impression</th>\n",
              "    </tr>\n",
              "  </thead>\n",
              "  <tbody>\n",
              "    <tr>\n",
              "      <th>7</th>\n",
              "      <td>Ariège</td>\n",
              "      <td>5.134474</td>\n",
              "      <td>409</td>\n",
              "    </tr>\n",
              "    <tr>\n",
              "      <th>14</th>\n",
              "      <td>Cantal</td>\n",
              "      <td>4.273504</td>\n",
              "      <td>234</td>\n",
              "    </tr>\n",
              "    <tr>\n",
              "      <th>18</th>\n",
              "      <td>Corrèze</td>\n",
              "      <td>3.785489</td>\n",
              "      <td>317</td>\n",
              "    </tr>\n",
              "  </tbody>\n",
              "</table>\n",
              "</div>"
            ],
            "text/plain": [
              "   departement       CTR  impression\n",
              "7       Ariège  5.134474         409\n",
              "14      Cantal  4.273504         234\n",
              "18     Corrèze  3.785489         317"
            ]
          },
          "metadata": {
            "tags": []
          },
          "execution_count": 17
        }
      ]
    },
    {
      "cell_type": "code",
      "metadata": {
        "id": "CGO9Ra-32v7I",
        "colab_type": "code",
        "outputId": "c01be70a-7d68-4037-d32c-3c4b911591ce",
        "colab": {
          "base_uri": "https://localhost:8080/",
          "height": 784
        }
      },
      "source": [
        "\n",
        "data_x = np.arange(len(departement))\n",
        "data_hight = CTR_dep\n",
        "data_color = CTR_dep\n",
        "\n",
        "\n",
        "data_color = [x / max(data_color) for x in DF_ctrd['CTR']]\n",
        "fig, ax = plt.subplots(figsize=(25, 12))\n",
        "\n",
        "my_cmap = plt.cm.get_cmap('GnBu')\n",
        "colors = my_cmap(data_color)\n",
        "rects = ax.bar(data_x, data_hight, color=colors)\n",
        "\n",
        "sm = ScalarMappable(cmap=my_cmap, norm=plt.Normalize(0,max(DF_ctrd['CTR'])))\n",
        "sm.set_array([])\n",
        "\n",
        "cbar = plt.colorbar(sm)\n",
        "cbar.set_label('Color', rotation=270,labelpad=25)\n",
        "\n",
        "plt.xlabel('Departements', fontsize=15)\n",
        "plt.ylabel('CTR', fontsize=15)\n",
        "plt.xticks(data_x, DF_ctrd['departement'], fontsize=8, rotation=30)\n",
        "plt.title('BAR CHART DESCRIBING THE CTR PER DEPARTMENT')\n",
        "\n",
        "\n",
        "plt.show()"
      ],
      "execution_count": 18,
      "outputs": [
        {
          "output_type": "display_data",
          "data": {
            "image/png": "[encoded data removed]",
            "text/plain": [
              "<Figure size 1800x864 with 2 Axes>"
            ]
          },
          "metadata": {
            "tags": []
          }
        }
      ]
    },
    {
      "cell_type": "markdown",
      "metadata": {
        "id": "mjbC2eecACib",
        "colab_type": "text"
      },
      "source": [
        "## Verification d'hypothèse\n",
        "\n",
        "\n",
        "On analysant les résultats on peut dire par une première observation que le CTR est plus élevé quand il y'a plus d'impression\n"
      ]
    },
    {
      "cell_type": "markdown",
      "metadata": {
        "id": "ORegP9yJEBYz",
        "colab_type": "text"
      },
      "source": [
        "Afin de verifier la relation entre les impressions et le CTR je vais afficher les donnée du CTR en fonction du nombres d'impressions d'abord par ZONE enssuite par departement."
      ]
    },
    {
      "cell_type": "markdown",
      "metadata": {
        "id": "b0s5EyzABJiv",
        "colab_type": "text"
      },
      "source": [
        "\n",
        "\n",
        "> Par zone :\n",
        "\n"
      ]
    },
    {
      "cell_type": "code",
      "metadata": {
        "id": "zT3r1nEV3395",
        "colab_type": "code",
        "colab": {
          "base_uri": "https://localhost:8080/",
          "height": 295
        },
        "outputId": "af2f0f25-2467-47c5-be7c-59d074114fc6"
      },
      "source": [
        "x = impression_zone\n",
        "y = CTR_zone\n",
        "\n",
        "area = np.pi*3\n",
        "\n",
        "# Plot\n",
        "plt.scatter(x, y, s=area, alpha=0.5)\n",
        "plt.title('Scatter plot CTR IMPRESSION by ZONE')\n",
        "plt.xlabel('Impression')\n",
        "plt.ylabel('CTR')\n",
        "plt.show()\n"
      ],
      "execution_count": 19,
      "outputs": [
        {
          "output_type": "display_data",
          "data": {
            "image/png": "[encoded data removed]",
            "text/plain": [
              "<Figure size 432x288 with 1 Axes>"
            ]
          },
          "metadata": {
            "tags": []
          }
        }
      ]
    },
    {
      "cell_type": "markdown",
      "metadata": {
        "id": "v7VMop90ElIM",
        "colab_type": "text"
      },
      "source": [
        "On calcule le coefficient de correlation R"
      ]
    },
    {
      "cell_type": "code",
      "metadata": {
        "id": "7FOMbwHJB20F",
        "colab_type": "code",
        "colab": {
          "base_uri": "https://localhost:8080/",
          "height": 136
        },
        "outputId": "644709f4-508a-44ad-8811-fac9f79fa240"
      },
      "source": [
        "DF_CTRZ.head(3)"
      ],
      "execution_count": 20,
      "outputs": [
        {
          "output_type": "execute_result",
          "data": {
            "text/html": [
              "<div>\n",
              "<style scoped>\n",
              "    .dataframe tbody tr th:only-of-type {\n",
              "        vertical-align: middle;\n",
              "    }\n",
              "\n",
              "    .dataframe tbody tr th {\n",
              "        vertical-align: top;\n",
              "    }\n",
              "\n",
              "    .dataframe thead th {\n",
              "        text-align: right;\n",
              "    }\n",
              "</style>\n",
              "<table border=\"1\" class=\"dataframe\">\n",
              "  <thead>\n",
              "    <tr style=\"text-align: right;\">\n",
              "      <th></th>\n",
              "      <th>zone_id</th>\n",
              "      <th>CTR %</th>\n",
              "      <th>impression</th>\n",
              "    </tr>\n",
              "  </thead>\n",
              "  <tbody>\n",
              "    <tr>\n",
              "      <th>3</th>\n",
              "      <td>9287</td>\n",
              "      <td>3.163213</td>\n",
              "      <td>60761</td>\n",
              "    </tr>\n",
              "    <tr>\n",
              "      <th>1</th>\n",
              "      <td>9283</td>\n",
              "      <td>2.648763</td>\n",
              "      <td>113940</td>\n",
              "    </tr>\n",
              "    <tr>\n",
              "      <th>5</th>\n",
              "      <td>17437</td>\n",
              "      <td>1.481435</td>\n",
              "      <td>95313</td>\n",
              "    </tr>\n",
              "  </tbody>\n",
              "</table>\n",
              "</div>"
            ],
            "text/plain": [
              "   zone_id     CTR %  impression\n",
              "3     9287  3.163213       60761\n",
              "1     9283  2.648763      113940\n",
              "5    17437  1.481435       95313"
            ]
          },
          "metadata": {
            "tags": []
          },
          "execution_count": 20
        }
      ]
    },
    {
      "cell_type": "code",
      "metadata": {
        "id": "fYZEGh-3B5cR",
        "colab_type": "code",
        "colab": {
          "base_uri": "https://localhost:8080/",
          "height": 34
        },
        "outputId": "d40e24e7-dbc9-417f-ccd2-471061d8da66"
      },
      "source": [
        "DF_CTRZ['CTR %'].corr(DF_CTRZ['impression'])"
      ],
      "execution_count": 21,
      "outputs": [
        {
          "output_type": "execute_result",
          "data": {
            "text/plain": [
              "0.6483291784135937"
            ]
          },
          "metadata": {
            "tags": []
          },
          "execution_count": 21
        }
      ]
    },
    {
      "cell_type": "markdown",
      "metadata": {
        "id": "KmLj6x8z-k9L",
        "colab_type": "text"
      },
      "source": [
        "Pour l'analyse par zone on a un coefficient de correlation de  *R* = **0.65**    ce qui demontre une correlation positive modéré."
      ]
    },
    {
      "cell_type": "markdown",
      "metadata": {
        "id": "YxRXJg3p9bQJ",
        "colab_type": "text"
      },
      "source": [
        "> la moyenne du CTR apres une recherche sur internet est de 2 % \n",
        "\n",
        "> Les zones produisant un CTR en dessous de la moyenne sont les suivantes :"
      ]
    },
    {
      "cell_type": "code",
      "metadata": {
        "id": "Hi3icpYs9FRb",
        "colab_type": "code",
        "colab": {
          "base_uri": "https://localhost:8080/",
          "height": 166
        },
        "outputId": "e3dba093-2f3c-4ec7-f515-c0130febfeb8"
      },
      "source": [
        "DF_CTRZ[DF_CTRZ['CTR %'] < 2]"
      ],
      "execution_count": 22,
      "outputs": [
        {
          "output_type": "execute_result",
          "data": {
            "text/html": [
              "<div>\n",
              "<style scoped>\n",
              "    .dataframe tbody tr th:only-of-type {\n",
              "        vertical-align: middle;\n",
              "    }\n",
              "\n",
              "    .dataframe tbody tr th {\n",
              "        vertical-align: top;\n",
              "    }\n",
              "\n",
              "    .dataframe thead th {\n",
              "        text-align: right;\n",
              "    }\n",
              "</style>\n",
              "<table border=\"1\" class=\"dataframe\">\n",
              "  <thead>\n",
              "    <tr style=\"text-align: right;\">\n",
              "      <th></th>\n",
              "      <th>zone_id</th>\n",
              "      <th>CTR %</th>\n",
              "      <th>impression</th>\n",
              "    </tr>\n",
              "  </thead>\n",
              "  <tbody>\n",
              "    <tr>\n",
              "      <th>5</th>\n",
              "      <td>17437</td>\n",
              "      <td>1.481435</td>\n",
              "      <td>95313</td>\n",
              "    </tr>\n",
              "    <tr>\n",
              "      <th>2</th>\n",
              "      <td>9284</td>\n",
              "      <td>1.259217</td>\n",
              "      <td>8815</td>\n",
              "    </tr>\n",
              "    <tr>\n",
              "      <th>4</th>\n",
              "      <td>9614</td>\n",
              "      <td>1.125089</td>\n",
              "      <td>11288</td>\n",
              "    </tr>\n",
              "    <tr>\n",
              "      <th>0</th>\n",
              "      <td>28</td>\n",
              "      <td>0.891239</td>\n",
              "      <td>6620</td>\n",
              "    </tr>\n",
              "  </tbody>\n",
              "</table>\n",
              "</div>"
            ],
            "text/plain": [
              "   zone_id     CTR %  impression\n",
              "5    17437  1.481435       95313\n",
              "2     9284  1.259217        8815\n",
              "4     9614  1.125089       11288\n",
              "0       28  0.891239        6620"
            ]
          },
          "metadata": {
            "tags": []
          },
          "execution_count": 22
        }
      ]
    },
    {
      "cell_type": "markdown",
      "metadata": {
        "id": "Es0b0FHRDLth",
        "colab_type": "text"
      },
      "source": [
        "\n",
        "\n",
        "> Par departement\n",
        "\n"
      ]
    },
    {
      "cell_type": "code",
      "metadata": {
        "id": "q3E9mzx8DOjv",
        "colab_type": "code",
        "colab": {
          "base_uri": "https://localhost:8080/",
          "height": 136
        },
        "outputId": "146534d4-65d1-42f2-a1e0-7f05b4dae3e6"
      },
      "source": [
        "DF_ctrd.head(3)"
      ],
      "execution_count": 23,
      "outputs": [
        {
          "output_type": "execute_result",
          "data": {
            "text/html": [
              "<div>\n",
              "<style scoped>\n",
              "    .dataframe tbody tr th:only-of-type {\n",
              "        vertical-align: middle;\n",
              "    }\n",
              "\n",
              "    .dataframe tbody tr th {\n",
              "        vertical-align: top;\n",
              "    }\n",
              "\n",
              "    .dataframe thead th {\n",
              "        text-align: right;\n",
              "    }\n",
              "</style>\n",
              "<table border=\"1\" class=\"dataframe\">\n",
              "  <thead>\n",
              "    <tr style=\"text-align: right;\">\n",
              "      <th></th>\n",
              "      <th>departement</th>\n",
              "      <th>CTR</th>\n",
              "      <th>impression</th>\n",
              "    </tr>\n",
              "  </thead>\n",
              "  <tbody>\n",
              "    <tr>\n",
              "      <th>7</th>\n",
              "      <td>Ariège</td>\n",
              "      <td>5.134474</td>\n",
              "      <td>409</td>\n",
              "    </tr>\n",
              "    <tr>\n",
              "      <th>14</th>\n",
              "      <td>Cantal</td>\n",
              "      <td>4.273504</td>\n",
              "      <td>234</td>\n",
              "    </tr>\n",
              "    <tr>\n",
              "      <th>18</th>\n",
              "      <td>Corrèze</td>\n",
              "      <td>3.785489</td>\n",
              "      <td>317</td>\n",
              "    </tr>\n",
              "  </tbody>\n",
              "</table>\n",
              "</div>"
            ],
            "text/plain": [
              "   departement       CTR  impression\n",
              "7       Ariège  5.134474         409\n",
              "14      Cantal  4.273504         234\n",
              "18     Corrèze  3.785489         317"
            ]
          },
          "metadata": {
            "tags": []
          },
          "execution_count": 23
        }
      ]
    },
    {
      "cell_type": "code",
      "metadata": {
        "id": "2xnyiJVyrjzQ",
        "colab_type": "code",
        "outputId": "1c3fd85b-7112-4919-919c-4f7cfaa9bfa7",
        "colab": {
          "base_uri": "https://localhost:8080/",
          "height": 295
        }
      },
      "source": [
        "# Create data\n",
        "x = imp_dep\n",
        "y = CTR_dep\n",
        "area = np.pi*3\n",
        "\n",
        "# Plot\n",
        "plt.scatter(x, y, s=area,  alpha=0.5)\n",
        "plt.title('Scatter plot CTR IMPRESSION by departement')\n",
        "plt.xlabel('x')\n",
        "plt.ylabel('y')\n",
        "plt.show()\n"
      ],
      "execution_count": 24,
      "outputs": [
        {
          "output_type": "display_data",
          "data": {
            "image/png": "[encoded data removed]",
            "text/plain": [
              "<Figure size 432x288 with 1 Axes>"
            ]
          },
          "metadata": {
            "tags": []
          }
        }
      ]
    },
    {
      "cell_type": "code",
      "metadata": {
        "id": "CZ26qr-ELg19",
        "colab_type": "code",
        "colab": {
          "base_uri": "https://localhost:8080/",
          "height": 34
        },
        "outputId": "267c8cef-9490-4d3f-8fb8-e95d2f924221"
      },
      "source": [
        "DF_ctrd['CTR'].corr(DF_ctrd['impression'])"
      ],
      "execution_count": 25,
      "outputs": [
        {
          "output_type": "execute_result",
          "data": {
            "text/plain": [
              "0.07263514226789551"
            ]
          },
          "metadata": {
            "tags": []
          },
          "execution_count": 25
        }
      ]
    },
    {
      "cell_type": "markdown",
      "metadata": {
        "id": "DSKfvrPpFK4j",
        "colab_type": "text"
      },
      "source": [
        "Pour l'analyse par departement on a un coefficient de correlation de R = 0.073 ce qui demontre que l'impression au dela d'un certain niveau n'affecte pas le CTR"
      ]
    },
    {
      "cell_type": "markdown",
      "metadata": {
        "id": "NsZuwcHGAiD_",
        "colab_type": "text"
      },
      "source": [
        "Les départements suivants sont en dessou du CTR moyen."
      ]
    },
    {
      "cell_type": "code",
      "metadata": {
        "id": "u2SPOPa7AWeX",
        "colab_type": "code",
        "colab": {
          "base_uri": "https://localhost:8080/",
          "height": 906
        },
        "outputId": "3d8be1af-a167-46ff-ff10-d77324f966be"
      },
      "source": [
        "DF_ctrd[DF_ctrd['CTR'] < 2]"
      ],
      "execution_count": 26,
      "outputs": [
        {
          "output_type": "execute_result",
          "data": {
            "text/html": [
              "<div>\n",
              "<style scoped>\n",
              "    .dataframe tbody tr th:only-of-type {\n",
              "        vertical-align: middle;\n",
              "    }\n",
              "\n",
              "    .dataframe tbody tr th {\n",
              "        vertical-align: top;\n",
              "    }\n",
              "\n",
              "    .dataframe thead th {\n",
              "        text-align: right;\n",
              "    }\n",
              "</style>\n",
              "<table border=\"1\" class=\"dataframe\">\n",
              "  <thead>\n",
              "    <tr style=\"text-align: right;\">\n",
              "      <th></th>\n",
              "      <th>departement</th>\n",
              "      <th>CTR</th>\n",
              "      <th>impression</th>\n",
              "    </tr>\n",
              "  </thead>\n",
              "  <tbody>\n",
              "    <tr>\n",
              "      <th>30</th>\n",
              "      <td>Gard</td>\n",
              "      <td>1.999048</td>\n",
              "      <td>2101</td>\n",
              "    </tr>\n",
              "    <tr>\n",
              "      <th>20</th>\n",
              "      <td>Creuse</td>\n",
              "      <td>1.980198</td>\n",
              "      <td>202</td>\n",
              "    </tr>\n",
              "    <tr>\n",
              "      <th>95</th>\n",
              "      <td>Yvelines</td>\n",
              "      <td>1.977472</td>\n",
              "      <td>3995</td>\n",
              "    </tr>\n",
              "    <tr>\n",
              "      <th>60</th>\n",
              "      <td>Meurthe et Moselle</td>\n",
              "      <td>1.967593</td>\n",
              "      <td>3456</td>\n",
              "    </tr>\n",
              "    <tr>\n",
              "      <th>0</th>\n",
              "      <td>Ain</td>\n",
              "      <td>1.924026</td>\n",
              "      <td>2027</td>\n",
              "    </tr>\n",
              "    <tr>\n",
              "      <th>28</th>\n",
              "      <td>Eure-et-Loir</td>\n",
              "      <td>1.912777</td>\n",
              "      <td>1307</td>\n",
              "    </tr>\n",
              "    <tr>\n",
              "      <th>54</th>\n",
              "      <td>Lot-et-Garonne</td>\n",
              "      <td>1.911469</td>\n",
              "      <td>994</td>\n",
              "    </tr>\n",
              "    <tr>\n",
              "      <th>47</th>\n",
              "      <td>Jura</td>\n",
              "      <td>1.906275</td>\n",
              "      <td>1259</td>\n",
              "    </tr>\n",
              "    <tr>\n",
              "      <th>75</th>\n",
              "      <td>Savoy</td>\n",
              "      <td>1.892042</td>\n",
              "      <td>1797</td>\n",
              "    </tr>\n",
              "    <tr>\n",
              "      <th>85</th>\n",
              "      <td>Upper Corsica</td>\n",
              "      <td>1.734104</td>\n",
              "      <td>173</td>\n",
              "    </tr>\n",
              "    <tr>\n",
              "      <th>2</th>\n",
              "      <td>Allier</td>\n",
              "      <td>1.725704</td>\n",
              "      <td>1101</td>\n",
              "    </tr>\n",
              "    <tr>\n",
              "      <th>25</th>\n",
              "      <td>Drôme</td>\n",
              "      <td>1.718009</td>\n",
              "      <td>1688</td>\n",
              "    </tr>\n",
              "    <tr>\n",
              "      <th>26</th>\n",
              "      <td>Essonne</td>\n",
              "      <td>1.714286</td>\n",
              "      <td>3675</td>\n",
              "    </tr>\n",
              "    <tr>\n",
              "      <th>43</th>\n",
              "      <td>Ille-et-Vilaine</td>\n",
              "      <td>1.640531</td>\n",
              "      <td>4145</td>\n",
              "    </tr>\n",
              "    <tr>\n",
              "      <th>59</th>\n",
              "      <td>Mayenne</td>\n",
              "      <td>1.617251</td>\n",
              "      <td>742</td>\n",
              "    </tr>\n",
              "    <tr>\n",
              "      <th>81</th>\n",
              "      <td>South Corsica</td>\n",
              "      <td>1.612903</td>\n",
              "      <td>310</td>\n",
              "    </tr>\n",
              "    <tr>\n",
              "      <th>39</th>\n",
              "      <td>Hautes-Alpes</td>\n",
              "      <td>1.607717</td>\n",
              "      <td>311</td>\n",
              "    </tr>\n",
              "    <tr>\n",
              "      <th>6</th>\n",
              "      <td>Ardèche</td>\n",
              "      <td>1.603206</td>\n",
              "      <td>998</td>\n",
              "    </tr>\n",
              "    <tr>\n",
              "      <th>37</th>\n",
              "      <td>Haute-Saône</td>\n",
              "      <td>1.572327</td>\n",
              "      <td>636</td>\n",
              "    </tr>\n",
              "    <tr>\n",
              "      <th>44</th>\n",
              "      <td>Indre</td>\n",
              "      <td>1.545595</td>\n",
              "      <td>647</td>\n",
              "    </tr>\n",
              "    <tr>\n",
              "      <th>31</th>\n",
              "      <td>Gers</td>\n",
              "      <td>1.525054</td>\n",
              "      <td>459</td>\n",
              "    </tr>\n",
              "    <tr>\n",
              "      <th>16</th>\n",
              "      <td>Charente-Maritime</td>\n",
              "      <td>1.515698</td>\n",
              "      <td>2771</td>\n",
              "    </tr>\n",
              "    <tr>\n",
              "      <th>4</th>\n",
              "      <td>Alpes-de-Haute-Provence</td>\n",
              "      <td>1.408451</td>\n",
              "      <td>568</td>\n",
              "    </tr>\n",
              "    <tr>\n",
              "      <th>17</th>\n",
              "      <td>Cher</td>\n",
              "      <td>1.393035</td>\n",
              "      <td>1005</td>\n",
              "    </tr>\n",
              "    <tr>\n",
              "      <th>94</th>\n",
              "      <td>Yonne</td>\n",
              "      <td>1.318945</td>\n",
              "      <td>834</td>\n",
              "    </tr>\n",
              "    <tr>\n",
              "      <th>67</th>\n",
              "      <td>Orne</td>\n",
              "      <td>1.300578</td>\n",
              "      <td>692</td>\n",
              "    </tr>\n",
              "    <tr>\n",
              "      <th>84</th>\n",
              "      <td>Territoire de Belfort</td>\n",
              "      <td>1.261830</td>\n",
              "      <td>317</td>\n",
              "    </tr>\n",
              "    <tr>\n",
              "      <th>55</th>\n",
              "      <td>Lozère</td>\n",
              "      <td>0.000000</td>\n",
              "      <td>85</td>\n",
              "    </tr>\n",
              "    <tr>\n",
              "      <th>96</th>\n",
              "      <td>nan</td>\n",
              "      <td>0.000000</td>\n",
              "      <td>0</td>\n",
              "    </tr>\n",
              "  </tbody>\n",
              "</table>\n",
              "</div>"
            ],
            "text/plain": [
              "                departement       CTR  impression\n",
              "30                     Gard  1.999048        2101\n",
              "20                   Creuse  1.980198         202\n",
              "95                 Yvelines  1.977472        3995\n",
              "60       Meurthe et Moselle  1.967593        3456\n",
              "0                       Ain  1.924026        2027\n",
              "28             Eure-et-Loir  1.912777        1307\n",
              "54           Lot-et-Garonne  1.911469         994\n",
              "47                     Jura  1.906275        1259\n",
              "75                    Savoy  1.892042        1797\n",
              "85            Upper Corsica  1.734104         173\n",
              "2                    Allier  1.725704        1101\n",
              "25                    Drôme  1.718009        1688\n",
              "26                  Essonne  1.714286        3675\n",
              "43          Ille-et-Vilaine  1.640531        4145\n",
              "59                  Mayenne  1.617251         742\n",
              "81            South Corsica  1.612903         310\n",
              "39             Hautes-Alpes  1.607717         311\n",
              "6                   Ardèche  1.603206         998\n",
              "37              Haute-Saône  1.572327         636\n",
              "44                    Indre  1.545595         647\n",
              "31                     Gers  1.525054         459\n",
              "16        Charente-Maritime  1.515698        2771\n",
              "4   Alpes-de-Haute-Provence  1.408451         568\n",
              "17                     Cher  1.393035        1005\n",
              "94                    Yonne  1.318945         834\n",
              "67                     Orne  1.300578         692\n",
              "84    Territoire de Belfort  1.261830         317\n",
              "55                   Lozère  0.000000          85\n",
              "96                      nan  0.000000           0"
            ]
          },
          "metadata": {
            "tags": []
          },
          "execution_count": 26
        }
      ]
    },
    {
      "cell_type": "markdown",
      "metadata": {
        "id": "MRpc2oDezztP",
        "colab_type": "text"
      },
      "source": [
        "###Conclusion\n",
        "\n",
        "On conclue que le CTR et le nombre d'impressions ne sont pas corrélés Afin d'améliorer le CTR il serait plus  judicieux de faire une étude par annonces et trouver les critères qui font que l'annonce soit attractives, et cibler les départements en dessou du CTR moyen. \n",
        "\n",
        "Les variables a cibler sont ad_id on pourrait faire une étude par rapport au departements et aussi par rapport au sites < support >.\n"
      ]
    },
    {
      "cell_type": "markdown",
      "metadata": {
        "id": "O0DH4Hr3FehE",
        "colab_type": "text"
      },
      "source": [
        "# PARTIE 3 : Analyse du CTR par site"
      ]
    },
    {
      "cell_type": "markdown",
      "metadata": {
        "id": "lhLJu6GJFktH",
        "colab_type": "text"
      },
      "source": [
        "###Analyse par site"
      ]
    },
    {
      "cell_type": "markdown",
      "metadata": {
        "id": "r7RUliEoJn7J",
        "colab_type": "text"
      },
      "source": [
        "Le support de l'ad est important pour le CTR afin de verifier cet hypothèse on va extraire les noms des sites web des url existant."
      ]
    },
    {
      "cell_type": "code",
      "metadata": {
        "id": "GcD4gGvDFjip",
        "colab_type": "code",
        "colab": {}
      },
      "source": [
        "from urllib.parse import urlparse\n",
        "\n",
        "def split(x) :\n",
        "  if isinstance(x, str) :\n",
        "    site = x.split(\".\")\n",
        "    return site[1]\n",
        "  else :\n",
        "    return \"Na\""
      ],
      "execution_count": 0,
      "outputs": []
    },
    {
      "cell_type": "code",
      "metadata": {
        "id": "Rcq5ryAEMSIM",
        "colab_type": "code",
        "colab": {}
      },
      "source": [
        "DF[\"site\"] = DF['url'].apply(lambda url : \"{uri.netloc}/\".format(uri=urlparse(url)) if not pd.isna(url) else np.nan).apply(split)"
      ],
      "execution_count": 0,
      "outputs": []
    },
    {
      "cell_type": "code",
      "metadata": {
        "id": "3t-xlWOIqRW3",
        "colab_type": "code",
        "colab": {
          "base_uri": "https://localhost:8080/",
          "height": 186
        },
        "outputId": "cfc0e47b-56f2-4027-d9a0-da86097562a7"
      },
      "source": [
        "DF.tail(3)"
      ],
      "execution_count": 29,
      "outputs": [
        {
          "output_type": "execute_result",
          "data": {
            "text/html": [
              "<div>\n",
              "<style scoped>\n",
              "    .dataframe tbody tr th:only-of-type {\n",
              "        vertical-align: middle;\n",
              "    }\n",
              "\n",
              "    .dataframe tbody tr th {\n",
              "        vertical-align: top;\n",
              "    }\n",
              "\n",
              "    .dataframe thead th {\n",
              "        text-align: right;\n",
              "    }\n",
              "</style>\n",
              "<table border=\"1\" class=\"dataframe\">\n",
              "  <thead>\n",
              "    <tr style=\"text-align: right;\">\n",
              "      <th></th>\n",
              "      <th>ts</th>\n",
              "      <th>event</th>\n",
              "      <th>useragent</th>\n",
              "      <th>url</th>\n",
              "      <th>region</th>\n",
              "      <th>departement</th>\n",
              "      <th>city</th>\n",
              "      <th>zone_id</th>\n",
              "      <th>ad_id</th>\n",
              "      <th>tag_id</th>\n",
              "      <th>site</th>\n",
              "    </tr>\n",
              "  </thead>\n",
              "  <tbody>\n",
              "    <tr>\n",
              "      <th>303383</th>\n",
              "      <td>2019-07-22 13:40:09</td>\n",
              "      <td>i0</td>\n",
              "      <td>Mozilla/5.0 (Windows NT 10.0; Win64; x64; rv:6...</td>\n",
              "      <td>http://www.meteofrance.com/previsions-meteo-fr...</td>\n",
              "      <td>NaN</td>\n",
              "      <td>NaN</td>\n",
              "      <td>NaN</td>\n",
              "      <td>17437</td>\n",
              "      <td>24148608</td>\n",
              "      <td>p1589349444484463400</td>\n",
              "      <td>meteofrance</td>\n",
              "    </tr>\n",
              "    <tr>\n",
              "      <th>303384</th>\n",
              "      <td>2019-07-22 13:40:09</td>\n",
              "      <td>i0</td>\n",
              "      <td>Mozilla/5.0 (Windows NT 10.0; Win64; x64; Trid...</td>\n",
              "      <td>http://www.meteofrance.com/previsions-meteo-fr...</td>\n",
              "      <td>Île-de-France</td>\n",
              "      <td>Paris</td>\n",
              "      <td>Paris</td>\n",
              "      <td>17437</td>\n",
              "      <td>24148608</td>\n",
              "      <td>p1810092354872119000</td>\n",
              "      <td>meteofrance</td>\n",
              "    </tr>\n",
              "    <tr>\n",
              "      <th>303385</th>\n",
              "      <td>2019-07-22 13:40:24</td>\n",
              "      <td>i0</td>\n",
              "      <td>Mozilla/5.0 (Windows NT 6.1; Win64; x64) Apple...</td>\n",
              "      <td>http://www.meteofrance.com/previsions-meteo-fr...</td>\n",
              "      <td>Pays de la Loire</td>\n",
              "      <td>Vendée</td>\n",
              "      <td>Montaigu</td>\n",
              "      <td>17437</td>\n",
              "      <td>24148608</td>\n",
              "      <td>p4616516545598262000</td>\n",
              "      <td>meteofrance</td>\n",
              "    </tr>\n",
              "  </tbody>\n",
              "</table>\n",
              "</div>"
            ],
            "text/plain": [
              "                         ts event  ...                tag_id         site\n",
              "303383  2019-07-22 13:40:09    i0  ...  p1589349444484463400  meteofrance\n",
              "303384  2019-07-22 13:40:09    i0  ...  p1810092354872119000  meteofrance\n",
              "303385  2019-07-22 13:40:24    i0  ...  p4616516545598262000  meteofrance\n",
              "\n",
              "[3 rows x 11 columns]"
            ]
          },
          "metadata": {
            "tags": []
          },
          "execution_count": 29
        }
      ]
    },
    {
      "cell_type": "markdown",
      "metadata": {
        "id": "CvjWuKYw47tM",
        "colab_type": "text"
      },
      "source": [
        "Maintenant que nous disposons des sites on va analyser le CTR par site "
      ]
    },
    {
      "cell_type": "code",
      "metadata": {
        "id": "0BdmnGi9qnFE",
        "colab_type": "code",
        "colab": {
          "base_uri": "https://localhost:8080/",
          "height": 193
        },
        "outputId": "8187353a-2d38-4857-f6d8-a770e2188d0b"
      },
      "source": [
        "DF['site'].value_counts()"
      ],
      "execution_count": 30,
      "outputs": [
        {
          "output_type": "execute_result",
          "data": {
            "text/plain": [
              "leboncoin            188318\n",
              "meteofrance           96553\n",
              "onvasortir            11407\n",
              "jardiner-malin         6667\n",
              "Na                      422\n",
              "nature-and-garden         9\n",
              "ayads                     8\n",
              "google                    1\n",
              "googleusercontent         1\n",
              "Name: site, dtype: int64"
            ]
          },
          "metadata": {
            "tags": []
          },
          "execution_count": 30
        }
      ]
    },
    {
      "cell_type": "markdown",
      "metadata": {
        "id": "wxtXMKI0NSFr",
        "colab_type": "text"
      },
      "source": [
        "On procede au calcule du CTR par site"
      ]
    },
    {
      "cell_type": "code",
      "metadata": {
        "id": "QpFcUkhbqsuB",
        "colab_type": "code",
        "colab": {}
      },
      "source": [
        "sites = np.unique(DF[\"site\"].tolist())\n"
      ],
      "execution_count": 0,
      "outputs": []
    },
    {
      "cell_type": "code",
      "metadata": {
        "id": "ug4KUakKrzDN",
        "colab_type": "code",
        "colab": {}
      },
      "source": [
        "CTR_site = []\n",
        "imp_site = []\n",
        "for s in sites :\n",
        "  \n",
        "  if len(DF[DF[\"site\"] == s ][\"event\"].value_counts()) > 1 :\n",
        "    \n",
        "    CTR = DF[DF[\"site\"] == s][\"event\"].value_counts()[1]/DF[DF[\"site\"] == s][\"event\"].value_counts()[0]\n",
        "    \n",
        "  else :\n",
        "    CTR = 0\n",
        "  CTR_site.append(CTR)\n",
        "  imp_site.append(DF[DF[\"site\"] == s][\"event\"].value_counts()[0])"
      ],
      "execution_count": 0,
      "outputs": []
    },
    {
      "cell_type": "code",
      "metadata": {
        "id": "zW4NLqUoKulL",
        "colab_type": "code",
        "colab": {
          "base_uri": "https://localhost:8080/",
          "height": 314
        },
        "outputId": "23b401ed-47f8-4d18-8d78-a5374811f127"
      },
      "source": [
        "DF_site = pd.DataFrame({'site' : sites , 'CTR' : CTR_site,'Impression' : imp_site}).sort_values(by='CTR', ascending=False)\n",
        "DF_site.head(10)"
      ],
      "execution_count": 33,
      "outputs": [
        {
          "output_type": "execute_result",
          "data": {
            "text/html": [
              "<div>\n",
              "<style scoped>\n",
              "    .dataframe tbody tr th:only-of-type {\n",
              "        vertical-align: middle;\n",
              "    }\n",
              "\n",
              "    .dataframe tbody tr th {\n",
              "        vertical-align: top;\n",
              "    }\n",
              "\n",
              "    .dataframe thead th {\n",
              "        text-align: right;\n",
              "    }\n",
              "</style>\n",
              "<table border=\"1\" class=\"dataframe\">\n",
              "  <thead>\n",
              "    <tr style=\"text-align: right;\">\n",
              "      <th></th>\n",
              "      <th>site</th>\n",
              "      <th>CTR</th>\n",
              "      <th>Impression</th>\n",
              "    </tr>\n",
              "  </thead>\n",
              "  <tbody>\n",
              "    <tr>\n",
              "      <th>1</th>\n",
              "      <td>ayads</td>\n",
              "      <td>0.333333</td>\n",
              "      <td>6</td>\n",
              "    </tr>\n",
              "    <tr>\n",
              "      <th>0</th>\n",
              "      <td>Na</td>\n",
              "      <td>0.060302</td>\n",
              "      <td>398</td>\n",
              "    </tr>\n",
              "    <tr>\n",
              "      <th>5</th>\n",
              "      <td>leboncoin</td>\n",
              "      <td>0.026178</td>\n",
              "      <td>183514</td>\n",
              "    </tr>\n",
              "    <tr>\n",
              "      <th>6</th>\n",
              "      <td>meteofrance</td>\n",
              "      <td>0.013307</td>\n",
              "      <td>95285</td>\n",
              "    </tr>\n",
              "    <tr>\n",
              "      <th>8</th>\n",
              "      <td>onvasortir</td>\n",
              "      <td>0.010542</td>\n",
              "      <td>11288</td>\n",
              "    </tr>\n",
              "    <tr>\n",
              "      <th>4</th>\n",
              "      <td>jardiner-malin</td>\n",
              "      <td>0.008776</td>\n",
              "      <td>6609</td>\n",
              "    </tr>\n",
              "    <tr>\n",
              "      <th>2</th>\n",
              "      <td>google</td>\n",
              "      <td>0.000000</td>\n",
              "      <td>1</td>\n",
              "    </tr>\n",
              "    <tr>\n",
              "      <th>3</th>\n",
              "      <td>googleusercontent</td>\n",
              "      <td>0.000000</td>\n",
              "      <td>1</td>\n",
              "    </tr>\n",
              "    <tr>\n",
              "      <th>7</th>\n",
              "      <td>nature-and-garden</td>\n",
              "      <td>0.000000</td>\n",
              "      <td>9</td>\n",
              "    </tr>\n",
              "  </tbody>\n",
              "</table>\n",
              "</div>"
            ],
            "text/plain": [
              "                site       CTR  Impression\n",
              "1              ayads  0.333333           6\n",
              "0                 Na  0.060302         398\n",
              "5          leboncoin  0.026178      183514\n",
              "6        meteofrance  0.013307       95285\n",
              "8         onvasortir  0.010542       11288\n",
              "4     jardiner-malin  0.008776        6609\n",
              "2             google  0.000000           1\n",
              "3  googleusercontent  0.000000           1\n",
              "7  nature-and-garden  0.000000           9"
            ]
          },
          "metadata": {
            "tags": []
          },
          "execution_count": 33
        }
      ]
    },
    {
      "cell_type": "markdown",
      "metadata": {
        "id": "46FMmcrzsU3U",
        "colab_type": "text"
      },
      "source": [
        "On remarque que le CTR est très élevé par rapport au site ayads et aussi pour les valeurs manquantes regroupé sous Na.               \n",
        "\n",
        "\n",
        "La première impression nous dit que les valeurs de NA et ayads ne sont pas représentatives cependant on va visualiser les résultats tel qu'ils sont.\n"
      ]
    },
    {
      "cell_type": "code",
      "metadata": {
        "id": "Ge3j61OEsUM4",
        "colab_type": "code",
        "colab": {
          "base_uri": "https://localhost:8080/",
          "height": 810
        },
        "outputId": "ce2fd03a-d3c3-48f8-f8f5-1296cd7fa203"
      },
      "source": [
        "data_x = np.arange(len(sites))\n",
        "data_hight = CTR_site\n",
        "data_color = CTR_site\n",
        "\n",
        "data_color = [x / max(data_color) for x in data_color]\n",
        "fig, ax = plt.subplots(figsize=(12, 12))\n",
        "\n",
        "my_cmap = plt.cm.get_cmap('GnBu')\n",
        "colors = my_cmap(data_color)\n",
        "rects = ax.bar(data_x, data_hight, color=colors)\n",
        "\n",
        "sm = ScalarMappable(cmap=my_cmap, norm=plt.Normalize(0,max(data_hight)))\n",
        "sm.set_array([])\n",
        "\n",
        "cbar = plt.colorbar(sm)\n",
        "cbar.set_label('Color', rotation=270,labelpad=25)\n",
        "\n",
        "ax.set_facecolor(\"gray\")\n",
        "\n",
        "plt.xlabel('Sites', fontsize=15)\n",
        "plt.ylabel('CTR', fontsize=15)\n",
        "plt.xticks(data_x, sites, fontsize=15, rotation=30)\n",
        "plt.title('BAR CHART DESCRIBING THE CTR PER SITE')\n",
        "\n",
        "\n",
        "plt.show()"
      ],
      "execution_count": 34,
      "outputs": [
        {
          "output_type": "display_data",
          "data": {
            "image/png": "[encoded data removed]",
            "text/plain": [
              "<Figure size 864x864 with 2 Axes>"
            ]
          },
          "metadata": {
            "tags": []
          }
        }
      ]
    },
    {
      "cell_type": "code",
      "metadata": {
        "id": "pcTIQalUuBjH",
        "colab_type": "code",
        "colab": {
          "base_uri": "https://localhost:8080/",
          "height": 297
        },
        "outputId": "a56f1069-40ec-4c30-c7f9-6291e2b09152"
      },
      "source": [
        "\n",
        "labels = sites\n",
        "sizes = data_color\n",
        "colors = ['yellowgreen', 'lightcoral', 'gold', 'lightskyblue','red','blue','orange','purple','black']\n",
        "patches, texts = plt.pie(sizes, colors=colors, shadow=True, startangle=90)\n",
        "plt.legend(patches, labels, loc=\"best\")\n",
        "plt.axis('equal')\n",
        "plt.tight_layout()\n",
        "plt.show()"
      ],
      "execution_count": 35,
      "outputs": [
        {
          "output_type": "display_data",
          "data": {
            "image/png": "[encoded data removed]",
            "text/plain": [
              "<Figure size 432x288 with 1 Axes>"
            ]
          },
          "metadata": {
            "tags": []
          }
        }
      ]
    },
    {
      "cell_type": "code",
      "metadata": {
        "id": "bo5rJOquO4nn",
        "colab_type": "code",
        "colab": {
          "base_uri": "https://localhost:8080/",
          "height": 34
        },
        "outputId": "e40dd499-7f2f-4a62-cabd-cd8c851995e6"
      },
      "source": [
        "\n",
        "DF_site['CTR'].corr(DF_site['Impression'])"
      ],
      "execution_count": 36,
      "outputs": [
        {
          "output_type": "execute_result",
          "data": {
            "text/plain": [
              "-0.15601333076782528"
            ]
          },
          "metadata": {
            "tags": []
          },
          "execution_count": 36
        }
      ]
    },
    {
      "cell_type": "markdown",
      "metadata": {
        "id": "Z1hon66LN7vf",
        "colab_type": "text"
      },
      "source": [
        "R = - 0.16\n",
        "\n",
        "Comme prévu les valeurs atads et Na faussent les résultats                  \n",
        "\n",
        "pour ayads nous disposons pas d'assez d'impressions pour pouvoir généraliser \n",
        "\n",
        "pour Na on rassemble  plusieurs sites et ceci fausse les résultats.\n",
        "\n",
        "On va considérer NA et Ayads comme outliers \n"
      ]
    },
    {
      "cell_type": "code",
      "metadata": {
        "id": "NEfcKrAwPXCo",
        "colab_type": "code",
        "colab": {}
      },
      "source": [
        "DF_site=DF_site.drop(DF_site.index[[0,1]])"
      ],
      "execution_count": 0,
      "outputs": []
    },
    {
      "cell_type": "code",
      "metadata": {
        "id": "WSdzpTYuPW1p",
        "colab_type": "code",
        "colab": {
          "base_uri": "https://localhost:8080/",
          "height": 195
        },
        "outputId": "9329feea-4a32-4ab6-f84e-6674db1d247b"
      },
      "source": [
        "DF_site.head()"
      ],
      "execution_count": 38,
      "outputs": [
        {
          "output_type": "execute_result",
          "data": {
            "text/html": [
              "<div>\n",
              "<style scoped>\n",
              "    .dataframe tbody tr th:only-of-type {\n",
              "        vertical-align: middle;\n",
              "    }\n",
              "\n",
              "    .dataframe tbody tr th {\n",
              "        vertical-align: top;\n",
              "    }\n",
              "\n",
              "    .dataframe thead th {\n",
              "        text-align: right;\n",
              "    }\n",
              "</style>\n",
              "<table border=\"1\" class=\"dataframe\">\n",
              "  <thead>\n",
              "    <tr style=\"text-align: right;\">\n",
              "      <th></th>\n",
              "      <th>site</th>\n",
              "      <th>CTR</th>\n",
              "      <th>Impression</th>\n",
              "    </tr>\n",
              "  </thead>\n",
              "  <tbody>\n",
              "    <tr>\n",
              "      <th>5</th>\n",
              "      <td>leboncoin</td>\n",
              "      <td>0.026178</td>\n",
              "      <td>183514</td>\n",
              "    </tr>\n",
              "    <tr>\n",
              "      <th>6</th>\n",
              "      <td>meteofrance</td>\n",
              "      <td>0.013307</td>\n",
              "      <td>95285</td>\n",
              "    </tr>\n",
              "    <tr>\n",
              "      <th>8</th>\n",
              "      <td>onvasortir</td>\n",
              "      <td>0.010542</td>\n",
              "      <td>11288</td>\n",
              "    </tr>\n",
              "    <tr>\n",
              "      <th>4</th>\n",
              "      <td>jardiner-malin</td>\n",
              "      <td>0.008776</td>\n",
              "      <td>6609</td>\n",
              "    </tr>\n",
              "    <tr>\n",
              "      <th>2</th>\n",
              "      <td>google</td>\n",
              "      <td>0.000000</td>\n",
              "      <td>1</td>\n",
              "    </tr>\n",
              "  </tbody>\n",
              "</table>\n",
              "</div>"
            ],
            "text/plain": [
              "             site       CTR  Impression\n",
              "5       leboncoin  0.026178      183514\n",
              "6     meteofrance  0.013307       95285\n",
              "8      onvasortir  0.010542       11288\n",
              "4  jardiner-malin  0.008776        6609\n",
              "2          google  0.000000           1"
            ]
          },
          "metadata": {
            "tags": []
          },
          "execution_count": 38
        }
      ]
    },
    {
      "cell_type": "code",
      "metadata": {
        "id": "eChvHQfrPWwj",
        "colab_type": "code",
        "colab": {
          "base_uri": "https://localhost:8080/",
          "height": 810
        },
        "outputId": "e003f643-7863-4e33-9642-d169f3ea8eb3"
      },
      "source": [
        "\n",
        "\n",
        "data_x = np.arange(len(DF_site['site']))\n",
        "data_hight = DF_site['CTR']\n",
        "data_color = DF_site['CTR']\n",
        "\n",
        "data_color = [x / max(DF_site['CTR']) for x in DF_site['CTR']]\n",
        "fig, ax = plt.subplots(figsize=(12, 12))\n",
        "\n",
        "my_cmap = plt.cm.get_cmap('GnBu')\n",
        "colors = my_cmap(data_color)\n",
        "rects = ax.bar(data_x, data_hight, color=colors)\n",
        "\n",
        "sm = ScalarMappable(cmap=my_cmap, norm=plt.Normalize(0,max(data_hight)))\n",
        "sm.set_array([])\n",
        "\n",
        "cbar = plt.colorbar(sm)\n",
        "cbar.set_label('Color', rotation=270,labelpad=25)\n",
        "\n",
        "\n",
        "plt.xlabel('Sites', fontsize=15)\n",
        "plt.ylabel('CTR', fontsize=15)\n",
        "plt.xticks(data_x, DF_site['site'], fontsize=15, rotation=30)\n",
        "plt.title('BAR CHART DESCRIBING THE CTR PER SITE')\n",
        "\n",
        "\n",
        "plt.show()"
      ],
      "execution_count": 39,
      "outputs": [
        {
          "output_type": "display_data",
          "data": {
            "image/png": "[encoded data removed]",
            "text/plain": [
              "<Figure size 864x864 with 2 Axes>"
            ]
          },
          "metadata": {
            "tags": []
          }
        }
      ]
    },
    {
      "cell_type": "code",
      "metadata": {
        "id": "S1IHNNMmQwGu",
        "colab_type": "code",
        "colab": {
          "base_uri": "https://localhost:8080/",
          "height": 297
        },
        "outputId": "df58b7b0-6f0b-4d2c-95ac-86ca4ad12cd3"
      },
      "source": [
        "\n",
        "labels = DF_site['site']\n",
        "sizes = data_color\n",
        "colors = ['yellowgreen', 'lightcoral', 'gold', 'lightskyblue','red','blue','orange']\n",
        "patches, texts = plt.pie(sizes, colors=colors, shadow=True, startangle=90)\n",
        "plt.legend(patches, labels, loc=\"best\")\n",
        "plt.axis('equal')\n",
        "plt.tight_layout()\n",
        "plt.show()"
      ],
      "execution_count": 40,
      "outputs": [
        {
          "output_type": "display_data",
          "data": {
            "image/png": "[encoded data removed]",
            "text/plain": [
              "<Figure size 432x288 with 1 Axes>"
            ]
          },
          "metadata": {
            "tags": []
          }
        }
      ]
    },
    {
      "cell_type": "code",
      "metadata": {
        "id": "7Ph7zLTTQv74",
        "colab_type": "code",
        "colab": {
          "base_uri": "https://localhost:8080/",
          "height": 34
        },
        "outputId": "042d387b-e2d8-48b4-ef6f-35b0cb8d357d"
      },
      "source": [
        "DF_site['CTR'].corr(DF_site['Impression'])"
      ],
      "execution_count": 41,
      "outputs": [
        {
          "output_type": "execute_result",
          "data": {
            "text/plain": [
              "0.9140015910574587"
            ]
          },
          "metadata": {
            "tags": []
          },
          "execution_count": 41
        }
      ]
    },
    {
      "cell_type": "markdown",
      "metadata": {
        "id": "shbe4uQWS5Uo",
        "colab_type": "text"
      },
      "source": [
        "On remarque ici une forte correlation entre CTR et Impressions apres avoir fait l'etude par site.\n",
        "\n",
        "leboncoin est le site avec le plus grand CTR."
      ]
    },
    {
      "cell_type": "markdown",
      "metadata": {
        "id": "j8CalSbABaEK",
        "colab_type": "text"
      },
      "source": [
        "### Analyse du CTR par annonce pour le site Leboncoin"
      ]
    },
    {
      "cell_type": "code",
      "metadata": {
        "id": "TUKP6dU0xoIj",
        "colab_type": "code",
        "colab": {
          "base_uri": "https://localhost:8080/",
          "height": 279
        },
        "outputId": "5008d2e9-4214-4c7c-97c9-aa6cda356d21"
      },
      "source": [
        "DF2 = DF[DF[\"site\"] == \"leboncoin\"]\n",
        "DF2.head()"
      ],
      "execution_count": 42,
      "outputs": [
        {
          "output_type": "execute_result",
          "data": {
            "text/html": [
              "<div>\n",
              "<style scoped>\n",
              "    .dataframe tbody tr th:only-of-type {\n",
              "        vertical-align: middle;\n",
              "    }\n",
              "\n",
              "    .dataframe tbody tr th {\n",
              "        vertical-align: top;\n",
              "    }\n",
              "\n",
              "    .dataframe thead th {\n",
              "        text-align: right;\n",
              "    }\n",
              "</style>\n",
              "<table border=\"1\" class=\"dataframe\">\n",
              "  <thead>\n",
              "    <tr style=\"text-align: right;\">\n",
              "      <th></th>\n",
              "      <th>ts</th>\n",
              "      <th>event</th>\n",
              "      <th>useragent</th>\n",
              "      <th>url</th>\n",
              "      <th>region</th>\n",
              "      <th>departement</th>\n",
              "      <th>city</th>\n",
              "      <th>zone_id</th>\n",
              "      <th>ad_id</th>\n",
              "      <th>tag_id</th>\n",
              "      <th>site</th>\n",
              "    </tr>\n",
              "  </thead>\n",
              "  <tbody>\n",
              "    <tr>\n",
              "      <th>0</th>\n",
              "      <td>2019-07-19 14:02:46</td>\n",
              "      <td>i0</td>\n",
              "      <td>Mozilla/5.0 (Windows NT 6.1; Win64; x64; rv:52...</td>\n",
              "      <td>https://www.leboncoin.fr/recherche/?text=lit%2...</td>\n",
              "      <td>Centre</td>\n",
              "      <td>Loiret</td>\n",
              "      <td>Orléans</td>\n",
              "      <td>9287</td>\n",
              "      <td>24059030</td>\n",
              "      <td>p5498120607220765000</td>\n",
              "      <td>leboncoin</td>\n",
              "    </tr>\n",
              "    <tr>\n",
              "      <th>2</th>\n",
              "      <td>2019-07-19 14:08:48</td>\n",
              "      <td>i0</td>\n",
              "      <td>Mozilla/5.0 (Windows NT 6.1; Win64; x64) Apple...</td>\n",
              "      <td>https://www.leboncoin.fr/recherche/?category=2...</td>\n",
              "      <td>Occitanie</td>\n",
              "      <td>Hérault</td>\n",
              "      <td>Montpellier</td>\n",
              "      <td>9287</td>\n",
              "      <td>24167308</td>\n",
              "      <td>p1686686056029719600</td>\n",
              "      <td>leboncoin</td>\n",
              "    </tr>\n",
              "    <tr>\n",
              "      <th>3</th>\n",
              "      <td>2019-07-19 14:08:57</td>\n",
              "      <td>i0</td>\n",
              "      <td>Mozilla/5.0 (Windows NT 6.1; Win64; x64) Apple...</td>\n",
              "      <td>https://www.leboncoin.fr/recherche/?text=salle...</td>\n",
              "      <td>Île-de-France</td>\n",
              "      <td>Yvelines</td>\n",
              "      <td>Villepreux</td>\n",
              "      <td>9287</td>\n",
              "      <td>24167308</td>\n",
              "      <td>p4519346950664111600</td>\n",
              "      <td>leboncoin</td>\n",
              "    </tr>\n",
              "    <tr>\n",
              "      <th>4</th>\n",
              "      <td>2019-07-19 14:09:39</td>\n",
              "      <td>i0</td>\n",
              "      <td>Mozilla/5.0 (Windows NT 10.0; Win64; x64) Appl...</td>\n",
              "      <td>https://www.leboncoin.fr/recherche/?text=machi...</td>\n",
              "      <td>Grand-Est</td>\n",
              "      <td>Bas-Rhin</td>\n",
              "      <td>Strasbourg</td>\n",
              "      <td>9287</td>\n",
              "      <td>24167308</td>\n",
              "      <td>p670021366504534300</td>\n",
              "      <td>leboncoin</td>\n",
              "    </tr>\n",
              "    <tr>\n",
              "      <th>5</th>\n",
              "      <td>2019-07-19 14:09:05</td>\n",
              "      <td>i0</td>\n",
              "      <td>Mozilla/5.0 (Windows NT 10.0; Win64; x64) Appl...</td>\n",
              "      <td>https://www.leboncoin.fr/recherche/?category=1...</td>\n",
              "      <td>Centre</td>\n",
              "      <td>Indre and Loire</td>\n",
              "      <td>Amboise</td>\n",
              "      <td>9287</td>\n",
              "      <td>24167308</td>\n",
              "      <td>p91756360756935980</td>\n",
              "      <td>leboncoin</td>\n",
              "    </tr>\n",
              "  </tbody>\n",
              "</table>\n",
              "</div>"
            ],
            "text/plain": [
              "                    ts event  ...                tag_id       site\n",
              "0  2019-07-19 14:02:46    i0  ...  p5498120607220765000  leboncoin\n",
              "2  2019-07-19 14:08:48    i0  ...  p1686686056029719600  leboncoin\n",
              "3  2019-07-19 14:08:57    i0  ...  p4519346950664111600  leboncoin\n",
              "4  2019-07-19 14:09:39    i0  ...   p670021366504534300  leboncoin\n",
              "5  2019-07-19 14:09:05    i0  ...    p91756360756935980  leboncoin\n",
              "\n",
              "[5 rows x 11 columns]"
            ]
          },
          "metadata": {
            "tags": []
          },
          "execution_count": 42
        }
      ]
    },
    {
      "cell_type": "code",
      "metadata": {
        "id": "4rF6xsM054dP",
        "colab_type": "code",
        "colab": {}
      },
      "source": [
        "ads = np.unique(DF2[\"ad_id\"].tolist())"
      ],
      "execution_count": 0,
      "outputs": []
    },
    {
      "cell_type": "code",
      "metadata": {
        "id": "ijsvEJGfuA--",
        "colab_type": "code",
        "colab": {}
      },
      "source": [
        "CTR_ad = []\n",
        "imp_ad = []\n",
        "\n",
        "for d in ads:\n",
        "  if len(DF2[DF2[\"ad_id\"] == d ][\"event\"].value_counts()) > 1 :\n",
        "    CTR = DF2[DF2[\"ad_id\"] == d][\"event\"].value_counts()[1]/DF2[DF2[\"ad_id\"] == d][\"event\"].value_counts()[0] * 100\n",
        "  else :\n",
        "    CTR = 0\n",
        "  CTR_ad.append(CTR)\n",
        "  imp_ad.append(DF2[DF2[\"ad_id\"] == d][\"event\"].value_counts()[0])"
      ],
      "execution_count": 0,
      "outputs": []
    },
    {
      "cell_type": "code",
      "metadata": {
        "id": "B3cUMF8ZvS6t",
        "colab_type": "code",
        "colab": {}
      },
      "source": [
        "DF_ad = pd.DataFrame({'ad_id': ads ,'CTR' :CTR_ad ,'Impression' : imp_ad})"
      ],
      "execution_count": 0,
      "outputs": []
    },
    {
      "cell_type": "markdown",
      "metadata": {
        "id": "tYVMJuikBsOT",
        "colab_type": "text"
      },
      "source": [
        "DF_ad est un DataFrame qui regroupe les annonces et leurs CTR pour leboncoin"
      ]
    },
    {
      "cell_type": "code",
      "metadata": {
        "id": "OGYQ28zduA7i",
        "colab_type": "code",
        "colab": {
          "base_uri": "https://localhost:8080/",
          "height": 776
        },
        "outputId": "553c85ba-8684-4db5-c3e8-b64bdf0dc265"
      },
      "source": [
        "\n",
        "data_x = np.arange(len(DF_ad[\"ad_id\"]))\n",
        "data_hight = DF_ad['CTR']\n",
        "data_color = DF_ad['CTR']\n",
        "\n",
        "data_color = [x / max(DF_ad['CTR']) for x in DF_ad['CTR']]\n",
        "fig, ax = plt.subplots(figsize=(12, 12))\n",
        "\n",
        "my_cmap = plt.cm.get_cmap('GnBu')\n",
        "colors = my_cmap(data_color)\n",
        "rects = ax.bar(data_x, data_hight, color=colors)\n",
        "\n",
        "sm = ScalarMappable(cmap=my_cmap, norm=plt.Normalize(0,max(data_hight)))\n",
        "sm.set_array([])\n",
        "\n",
        "cbar = plt.colorbar(sm)\n",
        "cbar.set_label('Color', rotation=270,labelpad=25)\n",
        "\n",
        "\n",
        "plt.xlabel('Sites', fontsize=15)\n",
        "plt.ylabel('CTR', fontsize=15)\n",
        "plt.xticks(data_x, DF_ad['ad_id'], fontsize=15, rotation=30)\n",
        "plt.title('BAR CHART DESCRIBING THE CTR PER SITE')\n",
        "\n",
        "\n",
        "plt.show()"
      ],
      "execution_count": 46,
      "outputs": [
        {
          "output_type": "display_data",
          "data": {
            "image/png": "[encoded data removed]",
            "text/plain": [
              "<Figure size 864x864 with 2 Axes>"
            ]
          },
          "metadata": {
            "tags": []
          }
        }
      ]
    },
    {
      "cell_type": "code",
      "metadata": {
        "id": "-ClGVbL8uA4E",
        "colab_type": "code",
        "colab": {
          "base_uri": "https://localhost:8080/",
          "height": 106
        },
        "outputId": "15ac6959-edc8-4a15-a0f4-c1e1b8909744"
      },
      "source": [
        "\n",
        "DF_ad[DF_ad['CTR'] < 2]"
      ],
      "execution_count": 47,
      "outputs": [
        {
          "output_type": "execute_result",
          "data": {
            "text/html": [
              "<div>\n",
              "<style scoped>\n",
              "    .dataframe tbody tr th:only-of-type {\n",
              "        vertical-align: middle;\n",
              "    }\n",
              "\n",
              "    .dataframe tbody tr th {\n",
              "        vertical-align: top;\n",
              "    }\n",
              "\n",
              "    .dataframe thead th {\n",
              "        text-align: right;\n",
              "    }\n",
              "</style>\n",
              "<table border=\"1\" class=\"dataframe\">\n",
              "  <thead>\n",
              "    <tr style=\"text-align: right;\">\n",
              "      <th></th>\n",
              "      <th>ad_id</th>\n",
              "      <th>CTR</th>\n",
              "      <th>Impression</th>\n",
              "    </tr>\n",
              "  </thead>\n",
              "  <tbody>\n",
              "    <tr>\n",
              "      <th>5</th>\n",
              "      <td>24133055</td>\n",
              "      <td>1.709649</td>\n",
              "      <td>3451</td>\n",
              "    </tr>\n",
              "    <tr>\n",
              "      <th>9</th>\n",
              "      <td>24158474</td>\n",
              "      <td>0.000000</td>\n",
              "      <td>3081</td>\n",
              "    </tr>\n",
              "  </tbody>\n",
              "</table>\n",
              "</div>"
            ],
            "text/plain": [
              "      ad_id       CTR  Impression\n",
              "5  24133055  1.709649        3451\n",
              "9  24158474  0.000000        3081"
            ]
          },
          "metadata": {
            "tags": []
          },
          "execution_count": 47
        }
      ]
    },
    {
      "cell_type": "markdown",
      "metadata": {
        "id": "HdVW7KsPCJ12",
        "colab_type": "text"
      },
      "source": [
        "Pour leboncoin Les deux annonces id 24133055 et 24158474 sont en dessou de la moyenne une des sollution est de etudier les specificités des autres annonces pour bouster le deux qui restent."
      ]
    },
    {
      "cell_type": "markdown",
      "metadata": {
        "id": "oAbR5BU5Cvil",
        "colab_type": "text"
      },
      "source": [
        "##Conclusion"
      ]
    },
    {
      "cell_type": "markdown",
      "metadata": {
        "id": "3MiAjl1WCysx",
        "colab_type": "text"
      },
      "source": [
        "Afin de booster le CTR, une des solution est de faire une étude similaire a celle effectuée pour leboncoin pour les sites qui restent afin d'augmenter le CTR par site ce qui nous conduira à augmenter le CTR Total."
      ]
    }
  ]
}